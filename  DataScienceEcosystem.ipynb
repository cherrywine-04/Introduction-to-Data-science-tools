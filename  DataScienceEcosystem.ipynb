{
 "cells": [
  {
   "cell_type": "markdown",
   "id": "b7798ec3",
   "metadata": {},
   "source": [
    "# Data Science Tools and Ecosystem"
   ]
  },
  {
   "cell_type": "markdown",
   "id": "1295cda0",
   "metadata": {},
   "source": [
    "In this notebook, Data Science Tools and Ecosystem are summarized."
   ]
  },
  {
   "cell_type": "markdown",
   "id": "727d3de0",
   "metadata": {},
   "source": [
    "Some of the popular languages that Data Scientists use are:"
   ]
  },
  {
   "cell_type": "markdown",
   "id": "0030bbfe",
   "metadata": {},
   "source": [
    "* Python \n",
    "* R \n",
    "* Scala"
   ]
  },
  {
   "cell_type": "markdown",
   "id": "06151891",
   "metadata": {},
   "source": [
    "Some of the commonly used libraries used by Data Scientists include:\n",
    "* TensorFlow\n",
    "* NumPy\n",
    "* SciPy \n",
    "* Pandas\n",
    "* Matplotlib "
   ]
  },
  {
   "cell_type": "markdown",
   "id": "9cca10fe",
   "metadata": {},
   "source": [
    "| Data Science Tools       |\n",
    "|-------------------------|\n",
    "| Jupyter Notebook        |\n",
    "| RStudio                 |\n",
    "| VS Code with Python     |"
   ]
  },
  {
   "cell_type": "markdown",
   "id": "9a91d07e",
   "metadata": {},
   "source": [
    "# Below are a few examples of evaluating arithmetic expressions in Python"
   ]
  },
  {
   "cell_type": "code",
   "execution_count": 4,
   "id": "471784db",
   "metadata": {},
   "outputs": [
    {
     "data": {
      "text/plain": [
       "17"
      ]
     },
     "execution_count": 4,
     "metadata": {},
     "output_type": "execute_result"
    }
   ],
   "source": [
    "(3*4)+5"
   ]
  },
  {
   "cell_type": "code",
   "execution_count": 5,
   "id": "92fc0059",
   "metadata": {},
   "outputs": [
    {
     "name": "stdout",
     "output_type": "stream",
     "text": [
      "3.3333333333333335\n"
     ]
    }
   ],
   "source": [
    "#This will convert 200 minutes to hours by diving by 60\n",
    "hour = 200/60\n",
    "print(hour)"
   ]
  },
  {
   "cell_type": "markdown",
   "id": "18c2eafe",
   "metadata": {},
   "source": [
    "**Objectives:**\n",
    "\n",
    "- List popular languages for Data Science : Python, R, Scala, Julia\n",
    "\n",
    "- Introduce common open-source tools for Data Science : VS code, Github, IBM cloud\n",
    "\n"
   ]
  },
  {
   "cell_type": "markdown",
   "id": "070a0318",
   "metadata": {},
   "source": [
    "## Author\n",
    "\n",
    "Priya Kumari\n"
   ]
  },
  {
   "cell_type": "code",
   "execution_count": null,
   "id": "e0110c53",
   "metadata": {},
   "outputs": [],
   "source": []
  }
 ],
 "metadata": {
  "kernelspec": {
   "display_name": "Python 3 (ipykernel)",
   "language": "python",
   "name": "python3"
  },
  "language_info": {
   "codemirror_mode": {
    "name": "ipython",
    "version": 3
   },
   "file_extension": ".py",
   "mimetype": "text/x-python",
   "name": "python",
   "nbconvert_exporter": "python",
   "pygments_lexer": "ipython3",
   "version": "3.9.5"
  }
 },
 "nbformat": 4,
 "nbformat_minor": 5
}
